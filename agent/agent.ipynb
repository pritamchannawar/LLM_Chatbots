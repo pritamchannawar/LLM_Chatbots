{
 "cells": [
  {
   "cell_type": "code",
   "execution_count": 1,
   "metadata": {},
   "outputs": [],
   "source": [
    "from langchain_community.tools import WikipediaQueryRun\n",
    "from langchain_community.utilities import WikipediaAPIWrapper"
   ]
  },
  {
   "cell_type": "code",
   "execution_count": 2,
   "metadata": {},
   "outputs": [],
   "source": [
    "api_wrapper=WikipediaAPIWrapper(top_k_results=1,doc_content_chars_max=200)\n",
    "wiki=WikipediaQueryRun(api_wrapper=api_wrapper)"
   ]
  },
  {
   "cell_type": "code",
   "execution_count": 3,
   "metadata": {},
   "outputs": [
    {
     "data": {
      "text/plain": [
       "'wikipedia'"
      ]
     },
     "execution_count": 3,
     "metadata": {},
     "output_type": "execute_result"
    }
   ],
   "source": [
    "wiki.name"
   ]
  },
  {
   "cell_type": "code",
   "execution_count": 4,
   "metadata": {},
   "outputs": [
    {
     "name": "stderr",
     "output_type": "stream",
     "text": [
      "USER_AGENT environment variable not set, consider setting it to identify your requests.\n"
     ]
    },
    {
     "data": {
      "text/plain": [
       "VectorStoreRetriever(tags=['FAISS', 'OllamaEmbeddings'], vectorstore=<langchain_community.vectorstores.faiss.FAISS object at 0x7ff5956bc5b0>)"
      ]
     },
     "execution_count": 4,
     "metadata": {},
     "output_type": "execute_result"
    }
   ],
   "source": [
    "from langchain_community.document_loaders import WebBaseLoader\n",
    "from langchain_community.vectorstores import FAISS\n",
    "from langchain_openai import OpenAIEmbeddings\n",
    "from langchain_text_splitters import RecursiveCharacterTextSplitter\n",
    "from langchain_community.embeddings import OllamaEmbeddings\n",
    "\n",
    "loader=WebBaseLoader(\"https://docs.smith.langchain.com/\")\n",
    "docs=loader.load()\n",
    "documents=RecursiveCharacterTextSplitter(chunk_size=1000,chunk_overlap=200).split_documents(docs)\n",
    "vectordb=FAISS.from_documents(documents,OllamaEmbeddings())\n",
    "retriever=vectordb.as_retriever()\n",
    "retriever"
   ]
  },
  {
   "cell_type": "code",
   "execution_count": 5,
   "metadata": {},
   "outputs": [],
   "source": [
    "from langchain.tools.retriever import create_retriever_tool\n",
    "retriever_tool=create_retriever_tool(retriever,\"langsmith_search\",\n",
    "                      \"Search for information about LangSmith. For any questions about LangSmith, you must use this tool!\")\n"
   ]
  },
  {
   "cell_type": "code",
   "execution_count": 6,
   "metadata": {},
   "outputs": [
    {
     "data": {
      "text/plain": [
       "'langsmith_search'"
      ]
     },
     "execution_count": 6,
     "metadata": {},
     "output_type": "execute_result"
    }
   ],
   "source": [
    "retriever_tool.name"
   ]
  },
  {
   "cell_type": "code",
   "execution_count": 7,
   "metadata": {},
   "outputs": [
    {
     "data": {
      "text/plain": [
       "'arxiv'"
      ]
     },
     "execution_count": 7,
     "metadata": {},
     "output_type": "execute_result"
    }
   ],
   "source": [
    "## Arxiv Tool\n",
    "from langchain_community.utilities import ArxivAPIWrapper\n",
    "from langchain_community.tools import ArxivQueryRun\n",
    "\n",
    "arxiv_wrapper=ArxivAPIWrapper(top_k_results=1, doc_content_chars_max=200)\n",
    "arxiv=ArxivQueryRun(api_wrapper=arxiv_wrapper)\n",
    "arxiv.name"
   ]
  },
  {
   "cell_type": "code",
   "execution_count": 8,
   "metadata": {},
   "outputs": [],
   "source": [
    "tools=[wiki,arxiv,retriever_tool]"
   ]
  },
  {
   "cell_type": "code",
   "execution_count": 9,
   "metadata": {},
   "outputs": [
    {
     "data": {
      "text/plain": [
       "[WikipediaQueryRun(api_wrapper=WikipediaAPIWrapper(wiki_client=<module 'wikipedia' from '/Users/ramtuptewar/Downloads/LangChain/chatbot/venv/lib/python3.10/site-packages/wikipedia/__init__.py'>, top_k_results=1, lang='en', load_all_available_meta=False, doc_content_chars_max=200)),\n",
       " ArxivQueryRun(api_wrapper=ArxivAPIWrapper(arxiv_search=<class 'arxiv.Search'>, arxiv_exceptions=(<class 'arxiv.ArxivError'>, <class 'arxiv.UnexpectedEmptyPageError'>, <class 'arxiv.HTTPError'>), top_k_results=1, ARXIV_MAX_QUERY_LENGTH=300, continue_on_failure=False, load_max_docs=100, load_all_available_meta=False, doc_content_chars_max=200, arxiv_result=<class 'arxiv.Result'>)),\n",
       " Tool(name='langsmith_search', description='Search for information about LangSmith. For any questions about LangSmith, you must use this tool!', args_schema=<class 'langchain_core.tools.RetrieverInput'>, func=functools.partial(<function _get_relevant_documents at 0x7ff593cf8f70>, retriever=VectorStoreRetriever(tags=['FAISS', 'OllamaEmbeddings'], vectorstore=<langchain_community.vectorstores.faiss.FAISS object at 0x7ff5956bc5b0>), document_prompt=PromptTemplate(input_variables=['page_content'], template='{page_content}'), document_separator='\\n\\n'), coroutine=functools.partial(<function _aget_relevant_documents at 0x7ff593cf9120>, retriever=VectorStoreRetriever(tags=['FAISS', 'OllamaEmbeddings'], vectorstore=<langchain_community.vectorstores.faiss.FAISS object at 0x7ff5956bc5b0>), document_prompt=PromptTemplate(input_variables=['page_content'], template='{page_content}'), document_separator='\\n\\n'))]"
      ]
     },
     "execution_count": 9,
     "metadata": {},
     "output_type": "execute_result"
    }
   ],
   "source": [
    "tools"
   ]
  },
  {
   "cell_type": "code",
   "execution_count": 10,
   "metadata": {},
   "outputs": [],
   "source": [
    "from dotenv import load_dotenv\n",
    "\n",
    "load_dotenv()\n",
    "import os\n",
    "os.environ['OPENAI_API_KEY']=os.getenv(\"OPENAI_API_KEY\")\n",
    "from langchain_openai import ChatOpenAI\n",
    "\n",
    "llm = ChatOpenAI(model=\"gpt-3.5-turbo-0125\", temperature=0)"
   ]
  },
  {
   "cell_type": "code",
   "execution_count": 13,
   "metadata": {},
   "outputs": [
    {
     "name": "stdout",
     "output_type": "stream",
     "text": [
      "Requirement already satisfied: deeplake in /Users/ramtuptewar/Downloads/LangChain/chatbot/venv/lib/python3.10/site-packages (3.9.11)\n",
      "Requirement already satisfied: numpy<2.0 in /Users/ramtuptewar/Downloads/LangChain/chatbot/venv/lib/python3.10/site-packages (from deeplake) (1.26.4)\n",
      "Requirement already satisfied: pillow~=10.2.0 in /Users/ramtuptewar/Downloads/LangChain/chatbot/venv/lib/python3.10/site-packages (from deeplake) (10.2.0)\n",
      "Requirement already satisfied: boto3 in /Users/ramtuptewar/Downloads/LangChain/chatbot/venv/lib/python3.10/site-packages (from deeplake) (1.34.131)\n",
      "Requirement already satisfied: click in /Users/ramtuptewar/Downloads/LangChain/chatbot/venv/lib/python3.10/site-packages (from deeplake) (8.1.7)\n",
      "Requirement already satisfied: pathos in /Users/ramtuptewar/Downloads/LangChain/chatbot/venv/lib/python3.10/site-packages (from deeplake) (0.3.2)\n",
      "Requirement already satisfied: humbug>=0.3.1 in /Users/ramtuptewar/Downloads/LangChain/chatbot/venv/lib/python3.10/site-packages (from deeplake) (0.3.2)\n",
      "Requirement already satisfied: tqdm in /Users/ramtuptewar/Downloads/LangChain/chatbot/venv/lib/python3.10/site-packages (from deeplake) (4.66.4)\n",
      "Requirement already satisfied: lz4 in /Users/ramtuptewar/Downloads/LangChain/chatbot/venv/lib/python3.10/site-packages (from deeplake) (4.3.3)\n",
      "Requirement already satisfied: pyjwt in /Users/ramtuptewar/Downloads/LangChain/chatbot/venv/lib/python3.10/site-packages (from deeplake) (2.8.0)\n",
      "Requirement already satisfied: pydantic in /Users/ramtuptewar/Downloads/LangChain/chatbot/venv/lib/python3.10/site-packages (from deeplake) (2.7.4)\n",
      "Requirement already satisfied: libdeeplake==0.0.133 in /Users/ramtuptewar/Downloads/LangChain/chatbot/venv/lib/python3.10/site-packages (from deeplake) (0.0.133)\n",
      "Requirement already satisfied: aioboto3>=10.4.0 in /Users/ramtuptewar/Downloads/LangChain/chatbot/venv/lib/python3.10/site-packages (from deeplake) (13.1.0)\n",
      "Requirement already satisfied: nest-asyncio in /Users/ramtuptewar/Downloads/LangChain/chatbot/venv/lib/python3.10/site-packages (from deeplake) (1.6.0)\n",
      "Requirement already satisfied: dill in /Users/ramtuptewar/Downloads/LangChain/chatbot/venv/lib/python3.10/site-packages (from libdeeplake==0.0.133->deeplake) (0.3.8)\n",
      "Requirement already satisfied: aiobotocore==2.13.1 in /Users/ramtuptewar/Downloads/LangChain/chatbot/venv/lib/python3.10/site-packages (from aiobotocore[boto3]==2.13.1->aioboto3>=10.4.0->deeplake) (2.13.1)\n",
      "Requirement already satisfied: aiofiles>=23.2.1 in /Users/ramtuptewar/Downloads/LangChain/chatbot/venv/lib/python3.10/site-packages (from aioboto3>=10.4.0->deeplake) (24.1.0)\n",
      "Requirement already satisfied: botocore<1.34.132,>=1.34.70 in /Users/ramtuptewar/Downloads/LangChain/chatbot/venv/lib/python3.10/site-packages (from aiobotocore==2.13.1->aiobotocore[boto3]==2.13.1->aioboto3>=10.4.0->deeplake) (1.34.131)\n",
      "Requirement already satisfied: aiohttp<4.0.0,>=3.9.2 in /Users/ramtuptewar/Downloads/LangChain/chatbot/venv/lib/python3.10/site-packages (from aiobotocore==2.13.1->aiobotocore[boto3]==2.13.1->aioboto3>=10.4.0->deeplake) (3.9.5)\n",
      "Requirement already satisfied: wrapt<2.0.0,>=1.10.10 in /Users/ramtuptewar/Downloads/LangChain/chatbot/venv/lib/python3.10/site-packages (from aiobotocore==2.13.1->aiobotocore[boto3]==2.13.1->aioboto3>=10.4.0->deeplake) (1.16.0)\n",
      "Requirement already satisfied: aioitertools<1.0.0,>=0.5.1 in /Users/ramtuptewar/Downloads/LangChain/chatbot/venv/lib/python3.10/site-packages (from aiobotocore==2.13.1->aiobotocore[boto3]==2.13.1->aioboto3>=10.4.0->deeplake) (0.11.0)\n",
      "Requirement already satisfied: jmespath<2.0.0,>=0.7.1 in /Users/ramtuptewar/Downloads/LangChain/chatbot/venv/lib/python3.10/site-packages (from boto3->deeplake) (1.0.1)\n",
      "Requirement already satisfied: s3transfer<0.11.0,>=0.10.0 in /Users/ramtuptewar/Downloads/LangChain/chatbot/venv/lib/python3.10/site-packages (from boto3->deeplake) (0.10.2)\n",
      "Requirement already satisfied: requests in /Users/ramtuptewar/Downloads/LangChain/chatbot/venv/lib/python3.10/site-packages (from humbug>=0.3.1->deeplake) (2.32.3)\n",
      "Requirement already satisfied: ppft>=1.7.6.8 in /Users/ramtuptewar/Downloads/LangChain/chatbot/venv/lib/python3.10/site-packages (from pathos->deeplake) (1.7.6.8)\n",
      "Requirement already satisfied: pox>=0.3.4 in /Users/ramtuptewar/Downloads/LangChain/chatbot/venv/lib/python3.10/site-packages (from pathos->deeplake) (0.3.4)\n",
      "Requirement already satisfied: multiprocess>=0.70.16 in /Users/ramtuptewar/Downloads/LangChain/chatbot/venv/lib/python3.10/site-packages (from pathos->deeplake) (0.70.16)\n",
      "Requirement already satisfied: annotated-types>=0.4.0 in /Users/ramtuptewar/Downloads/LangChain/chatbot/venv/lib/python3.10/site-packages (from pydantic->deeplake) (0.7.0)\n",
      "Requirement already satisfied: pydantic-core==2.18.4 in /Users/ramtuptewar/Downloads/LangChain/chatbot/venv/lib/python3.10/site-packages (from pydantic->deeplake) (2.18.4)\n",
      "Requirement already satisfied: typing-extensions>=4.6.1 in /Users/ramtuptewar/Downloads/LangChain/chatbot/venv/lib/python3.10/site-packages (from pydantic->deeplake) (4.12.2)\n",
      "Requirement already satisfied: python-dateutil<3.0.0,>=2.1 in /Users/ramtuptewar/Downloads/LangChain/chatbot/venv/lib/python3.10/site-packages (from botocore<1.34.132,>=1.34.70->aiobotocore==2.13.1->aiobotocore[boto3]==2.13.1->aioboto3>=10.4.0->deeplake) (2.9.0)\n",
      "Requirement already satisfied: urllib3!=2.2.0,<3,>=1.25.4 in /Users/ramtuptewar/Downloads/LangChain/chatbot/venv/lib/python3.10/site-packages (from botocore<1.34.132,>=1.34.70->aiobotocore==2.13.1->aiobotocore[boto3]==2.13.1->aioboto3>=10.4.0->deeplake) (2.2.2)\n",
      "Requirement already satisfied: charset-normalizer<4,>=2 in /Users/ramtuptewar/Downloads/LangChain/chatbot/venv/lib/python3.10/site-packages (from requests->humbug>=0.3.1->deeplake) (3.3.2)\n",
      "Requirement already satisfied: idna<4,>=2.5 in /Users/ramtuptewar/Downloads/LangChain/chatbot/venv/lib/python3.10/site-packages (from requests->humbug>=0.3.1->deeplake) (3.7)\n",
      "Requirement already satisfied: certifi>=2017.4.17 in /Users/ramtuptewar/Downloads/LangChain/chatbot/venv/lib/python3.10/site-packages (from requests->humbug>=0.3.1->deeplake) (2024.6.2)\n",
      "Requirement already satisfied: aiosignal>=1.1.2 in /Users/ramtuptewar/Downloads/LangChain/chatbot/venv/lib/python3.10/site-packages (from aiohttp<4.0.0,>=3.9.2->aiobotocore==2.13.1->aiobotocore[boto3]==2.13.1->aioboto3>=10.4.0->deeplake) (1.3.1)\n",
      "Requirement already satisfied: attrs>=17.3.0 in /Users/ramtuptewar/Downloads/LangChain/chatbot/venv/lib/python3.10/site-packages (from aiohttp<4.0.0,>=3.9.2->aiobotocore==2.13.1->aiobotocore[boto3]==2.13.1->aioboto3>=10.4.0->deeplake) (23.2.0)\n",
      "Requirement already satisfied: frozenlist>=1.1.1 in /Users/ramtuptewar/Downloads/LangChain/chatbot/venv/lib/python3.10/site-packages (from aiohttp<4.0.0,>=3.9.2->aiobotocore==2.13.1->aiobotocore[boto3]==2.13.1->aioboto3>=10.4.0->deeplake) (1.4.1)\n",
      "Requirement already satisfied: multidict<7.0,>=4.5 in /Users/ramtuptewar/Downloads/LangChain/chatbot/venv/lib/python3.10/site-packages (from aiohttp<4.0.0,>=3.9.2->aiobotocore==2.13.1->aiobotocore[boto3]==2.13.1->aioboto3>=10.4.0->deeplake) (6.0.5)\n",
      "Requirement already satisfied: yarl<2.0,>=1.0 in /Users/ramtuptewar/Downloads/LangChain/chatbot/venv/lib/python3.10/site-packages (from aiohttp<4.0.0,>=3.9.2->aiobotocore==2.13.1->aiobotocore[boto3]==2.13.1->aioboto3>=10.4.0->deeplake) (1.9.4)\n",
      "Requirement already satisfied: async-timeout<5.0,>=4.0 in /Users/ramtuptewar/Downloads/LangChain/chatbot/venv/lib/python3.10/site-packages (from aiohttp<4.0.0,>=3.9.2->aiobotocore==2.13.1->aiobotocore[boto3]==2.13.1->aioboto3>=10.4.0->deeplake) (4.0.3)\n",
      "Requirement already satisfied: six>=1.5 in /Users/ramtuptewar/Downloads/LangChain/chatbot/venv/lib/python3.10/site-packages (from python-dateutil<3.0.0,>=2.1->botocore<1.34.132,>=1.34.70->aiobotocore==2.13.1->aiobotocore[boto3]==2.13.1->aioboto3>=10.4.0->deeplake) (1.16.0)\n",
      "Note: you may need to restart the kernel to use updated packages.\n"
     ]
    }
   ],
   "source": [
    "pip install deeplake\n"
   ]
  },
  {
   "cell_type": "code",
   "execution_count": null,
   "metadata": {},
   "outputs": [],
   "source": [
    "import hub\n",
    "# Get the prompt to use - you can modify this!\n",
    "prompt = hub.pull(\"hwchase17/openai-functions-agent\")\n",
    "prompt.messages\n"
   ]
  },
  {
   "cell_type": "code",
   "execution_count": null,
   "metadata": {},
   "outputs": [],
   "source": [
    "### Agents\n",
    "from langchain.agents import create_openai_tools_agent\n",
    "agent=create_openai_tools_agent(llm,tools,prompt)"
   ]
  },
  {
   "cell_type": "code",
   "execution_count": null,
   "metadata": {},
   "outputs": [],
   "source": [
    "## Agent Executer\n",
    "from langchain.agents import AgentExecutor\n",
    "agent_executor=AgentExecutor(agent=agent,tools=tools,verbose=True)\n",
    "agent_executor"
   ]
  },
  {
   "cell_type": "code",
   "execution_count": null,
   "metadata": {},
   "outputs": [],
   "source": [
    "agent_executor.invoke({\"input\":\"Tell me about Langsmith\"})"
   ]
  },
  {
   "cell_type": "code",
   "execution_count": null,
   "metadata": {},
   "outputs": [],
   "source": [
    "agent_executor.invoke({\"input\":\"What's the paper 1605.08386 about?\"})"
   ]
  }
 ],
 "metadata": {
  "kernelspec": {
   "display_name": "Python 3",
   "language": "python",
   "name": "python3"
  },
  "language_info": {
   "codemirror_mode": {
    "name": "ipython",
    "version": 3
   },
   "file_extension": ".py",
   "mimetype": "text/x-python",
   "name": "python",
   "nbconvert_exporter": "python",
   "pygments_lexer": "ipython3",
   "version": "3.10.14"
  }
 },
 "nbformat": 4,
 "nbformat_minor": 2
}
